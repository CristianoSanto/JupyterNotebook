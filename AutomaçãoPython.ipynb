{
 "cells": [
  {
   "cell_type": "markdown",
   "id": "a70eb6e1",
   "metadata": {},
   "source": [
    "### Importando as bibliotecas necessárias"
   ]
  },
  {
   "cell_type": "code",
   "execution_count": 7,
   "id": "2defdce8",
   "metadata": {},
   "outputs": [],
   "source": [
    "import pyautogui\n",
    "import pyperclip\n",
    "import time"
   ]
  },
  {
   "cell_type": "markdown",
   "id": "347066a8",
   "metadata": {},
   "source": [
    "### Começo do código"
   ]
  },
  {
   "cell_type": "code",
   "execution_count": 13,
   "id": "31727196",
   "metadata": {},
   "outputs": [],
   "source": [
    "pyautogui.hotkey(\"ctrl\", \"t\")\n",
    "time.sleep(3)\n",
    "pyautogui.write(\"WhatsApp Web\")\n",
    "time.sleep(2)\n",
    "pyautogui.press(\"enter\")\n",
    "time.sleep(2)\n",
    "pyautogui.click(x=266, y=326)\n",
    "time.sleep(28)\n",
    "pyautogui.click(x=35, y=276)\n",
    "pyautogui.write(\"Davi\")\n",
    "time.sleep(2)\n",
    "pyautogui.click(x=122, y=408)\n",
    "time.sleep(2)\n",
    "#texto = \"Olá\"\n",
    "#pyperclip.copy(texto)\n",
    "pyautogui.hotkey(\"ctrl\", \"v\")\n",
    "time.sleep(2)\n",
    "pyautogui.click(x=1327, y=695)\n"
   ]
  },
  {
   "cell_type": "markdown",
   "id": "86f53c7a",
   "metadata": {},
   "source": [
    "### Código para pegar uma posição em um lugar específico"
   ]
  },
  {
   "cell_type": "code",
   "execution_count": null,
   "id": "9a45511e",
   "metadata": {},
   "outputs": [],
   "source": [
    "time.sleep(5)\n",
    "pyautogui.position()"
   ]
  }
 ],
 "metadata": {
  "kernelspec": {
   "display_name": "Python 3 (ipykernel)",
   "language": "python",
   "name": "python3"
  },
  "language_info": {
   "codemirror_mode": {
    "name": "ipython",
    "version": 3
   },
   "file_extension": ".py",
   "mimetype": "text/x-python",
   "name": "python",
   "nbconvert_exporter": "python",
   "pygments_lexer": "ipython3",
   "version": "3.9.7"
  }
 },
 "nbformat": 4,
 "nbformat_minor": 5
}
